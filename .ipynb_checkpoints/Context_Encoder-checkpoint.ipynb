{
 "cells": [
  {
   "cell_type": "code",
   "execution_count": 0,
   "metadata": {
    "colab": {},
    "colab_type": "code",
    "id": "aY6BuibfJqJS"
   },
   "outputs": [],
   "source": [
    "set_path = '/content/drive/My Drive/Colab Notebooks/data'\n",
    "import os\n",
    "os.chdir(set_path)"
   ]
  },
  {
   "cell_type": "code",
   "execution_count": 0,
   "metadata": {
    "colab": {},
    "colab_type": "code",
    "id": "VX-EghrAVvS8"
   },
   "outputs": [],
   "source": [
    "!pip install scipy==1.2.1"
   ]
  },
  {
   "cell_type": "code",
   "execution_count": 0,
   "metadata": {
    "colab": {},
    "colab_type": "code",
    "id": "cAbeR-hPvcvO"
   },
   "outputs": [],
   "source": [
    "from tflearn.layers.core import input_data, dropout, fully_connected\n",
    "from tflearn.layers.conv import conv_2d,max_pool_2d, conv_2d_transpose\n",
    "from tflearn.layers.normalization import local_response_normalization\n",
    "from tflearn.layers.estimator import regression\n",
    "\n",
    "%tensorflow_version 1.14\n",
    "import tensorflow as tf\n",
    "\n",
    "from scipy.misc import imresize\n",
    "from scipy.misc import imsave\n",
    "from skimage.util import random_noise\n",
    "\n",
    "import tflearn.datasets.cifar10 as cifar10\n",
    "import numpy as np"
   ]
  },
  {
   "cell_type": "code",
   "execution_count": 0,
   "metadata": {
    "colab": {},
    "colab_type": "code",
    "id": "U5jdh5NVy8Vq"
   },
   "outputs": [],
   "source": [
    "del small_X,X"
   ]
  },
  {
   "cell_type": "code",
   "execution_count": 0,
   "metadata": {
    "colab": {
     "base_uri": "https://localhost:8080/",
     "height": 90
    },
    "colab_type": "code",
    "id": "Fp2STVXRJJ0x",
    "outputId": "da6129f4-ef5f-49cc-c067-386845ec91b8"
   },
   "outputs": [
    {
     "name": "stdout",
     "output_type": "stream",
     "text": [
      "50000\n"
     ]
    },
    {
     "name": "stderr",
     "output_type": "stream",
     "text": [
      "/usr/local/lib/python3.6/dist-packages/ipykernel_launcher.py:17: DeprecationWarning: `imresize` is deprecated!\n",
      "`imresize` is deprecated in SciPy 1.0.0, and will be removed in 1.3.0.\n",
      "Use Pillow instead: ``numpy.array(Image.fromarray(arr).resize())``.\n"
     ]
    }
   ],
   "source": [
    "images,_ = cifar10.load_data()\n",
    "print(images[0].__len__())\n",
    "def remove_middle(image):\n",
    "    new_image = image\n",
    "    for i in range(8, 24):\n",
    "        for j in range(8,24):\n",
    "            for k in range(3):\n",
    "                new_image[i][j][k]=0\n",
    "    # result = imresize(new_image, (128,128))\n",
    "    # del new_image, image\n",
    "    return new_image\n",
    "# input()\n",
    "i=0\n",
    "small_x = []\n",
    "for image in images[0]:\n",
    "    # i+=1\n",
    "    small_x.append(imresize(image, (16,16)))\n",
    "    # print(i)\n",
    "\n",
    "small_X = np.array(small_x).astype(np.float32)\n",
    "del small_x\n",
    "\n"
   ]
  },
  {
   "cell_type": "code",
   "execution_count": 0,
   "metadata": {
    "colab": {},
    "colab_type": "code",
    "id": "J6nfyXFxyxWy"
   },
   "outputs": [],
   "source": [
    "x=[]\n",
    "i=0\n",
    "for image in images[0]:\n",
    "    # i+=1\n",
    "    x.append(remove_middle(image))\n",
    "    # print(i)\n",
    "\n",
    "X = np.array(x).astype(np.float32)\n",
    "del x\n"
   ]
  },
  {
   "cell_type": "code",
   "execution_count": 0,
   "metadata": {
    "colab": {
     "base_uri": "https://localhost:8080/",
     "height": 35
    },
    "colab_type": "code",
    "id": "hPj-uMwJbNUm",
    "outputId": "82aa65a9-9b89-4a48-f268-7af9eca338f5"
   },
   "outputs": [
    {
     "data": {
      "text/plain": [
       "((50000, 16, 16, 3), (50000, 32, 32, 3))"
      ]
     },
     "execution_count": 23,
     "metadata": {
      "tags": []
     },
     "output_type": "execute_result"
    }
   ],
   "source": [
    "\n",
    "batch_size = 20\n",
    "\n",
    "ones = np.reshape(np.array([1.0 for x in range(batch_size)]), (-1, 1))\n",
    "zeros = np.reshape(np.array([0.0 for x in range(batch_size)]), (-1, 1))\n",
    "small_X.shape, X.shape"
   ]
  },
  {
   "cell_type": "code",
   "execution_count": 0,
   "metadata": {
    "colab": {},
    "colab_type": "code",
    "id": "1RNETlOmM57J"
   },
   "outputs": [],
   "source": [
    "def context_encoder(input_image):\n",
    "    '''\n",
    "    Encoder\n",
    "    '''\n",
    "    network = conv_2d(input_image, 32, 4, strides=2, activation='relu')\n",
    "    network = conv_2d(network, 16, 4, strides=2, activation='relu')\n",
    "    network = conv_2d(network, 8, 4, strides=2, activation='relu')\n",
    "    # network = conv_2d(network, 512, 4, strides=2, activation='relu')\n",
    "    \n",
    "    '''\n",
    "    Channel wise connection\n",
    "    R\n",
    "    G\n",
    "    B\n",
    "    '''\n",
    "    network0 = fully_connected(network[:,:,:,0], 16) #Channel -----> R\n",
    "    network1 = fully_connected(network[:,:,:,1], 16) #Channel -----> G\n",
    "    network2 = fully_connected(network[:,:,:,2], 16) #Channel -----> B\n",
    "\n",
    "    '''\n",
    "    Decoder\n",
    "    '''\n",
    "    network = tf.reshape(tf.concat([network0, network1, network2], axis=1), (-1, 4, 4, 3))\n",
    "    \n",
    "    network = conv_2d_transpose(network, 12, 4, [4,4], strides=1, activation='relu')\n",
    "    network = conv_2d_transpose(network, 12, 4, [4,4], strides=1, activation='relu')\n",
    "    network = conv_2d_transpose(network, 6, 4, [8,8], strides=2, activation='relu')\n",
    "    network = conv_2d_transpose(network, 3 , 4, [16,16], strides=2, activation='relu')\n",
    "    # network = conv_2d_transpose(network, 3 , 4, [64,64], strides=2, activation='relu')\n",
    "\n",
    "    return network\n",
    "\n",
    "\n",
    "def discriminator(input_image):\n",
    "    network = conv_2d(input_image, 32, 4, activation='relu')\n",
    "    network = conv_2d(network, 64, 4, strides=2, activation='relu')\n",
    "    network = conv_2d(network, 128, 4, strides=2, activation='relu')\n",
    "    # network = conv_2d(network, 512, 4, strides=2, activation='relu')\n",
    "\n",
    "    network = fully_connected(network, 1)\n",
    "    return network"
   ]
  },
  {
   "cell_type": "code",
   "execution_count": 0,
   "metadata": {
    "colab": {},
    "colab_type": "code",
    "id": "SsPxcpjf0L_b"
   },
   "outputs": [],
   "source": [
    "#actual 128 128 3\n",
    "image_input = tf.placeholder(tf.float32, shape=(None, 32,32, 3))\n",
    "#acutal 64 64 3\n",
    "small_image_input = tf.placeholder(tf.float32, shape=(None, 16,16,3))\n",
    "true_or_false_input = tf.placeholder(tf.float32, shape=(None, 1))"
   ]
  },
  {
   "cell_type": "code",
   "execution_count": 0,
   "metadata": {
    "colab": {},
    "colab_type": "code",
    "id": "nWyH2WEJK_Rf"
   },
   "outputs": [],
   "source": [
    "# image_input = input_data(shape=[None, 128,128, 3])\n",
    "# small_image_input = input_data(shape=[None, 64,64, 3])\n",
    "# real_fake_data = input_data(shape=[None, 1])\n",
    "\n",
    "gamma = 0.3\n",
    "\n",
    "#Reconstructed\n",
    "image_output = context_encoder(image_input)\n",
    "\n",
    "#\n",
    "context_loss =  tf.reduce_sum(tf.reduce_sum(tf.square(image_output - small_image_input)))\n",
    "d_loss = -discriminator(image_output)\n",
    "context_encoder_loss = context_loss*gamma + d_loss*(1-gamma)\n",
    "\n",
    "discriminator_output = discriminator(small_image_input)\n",
    "discriminator_loss = tf.reduce_sum(tf.square(true_or_false_input-discriminator_output))\n",
    "\n",
    "discriminator_train_op = tf.train.AdamOptimizer(1e-5).minimize(discriminator_loss)\n",
    "context_model_train_op = tf.train.AdamOptimizer(1e-5).minimize(context_encoder_loss)\n",
    "\n",
    "init_op = tf.initialize_all_variables()\n",
    "\n",
    "with tf.Session() as sess:\n",
    "    sess.run(init_op)\n",
    "    for j in range(60000):\n",
    "        print('Epoch ', j)\n",
    "        for i in range(len(X)//batch_size):\n",
    "            sess.run(context_model_train_op, \n",
    "                     feed_dict={image_input:X[i*batch_size:(i+1)*batch_size],\n",
    "                                small_image_input:small_X[i*batch_size : (i+1)*batch_size]})\n",
    "            #gen some images\n",
    "            generate_image_batch = sess.run(image_output, \n",
    "                                            feed_dict={image_input:X[i*batch_size : (i+1)*batch_size], \n",
    "                                                       small_image_input:small_X[i*batch_size:(i+1)*batch_size]})\n",
    "                        \n",
    "            #train discriminator\n",
    "            sess.run(discriminator_train_op,\n",
    "                     feed_dict={small_image_input:small_X[i*batch_size:(i+1)*batch_size], \n",
    "                                true_or_false_input:ones})\n",
    "\n",
    "            sess.run(discriminator_train_op,\n",
    "                     feed_dict={small_image_input:generate_image_batch,\n",
    "                                true_or_false_input:zeros})\n",
    "\n",
    "            offset = len(X)-batch_size\n",
    "            if j%50==0 and i == 0:\n",
    "                from google.colab.patches import cv2_imshow\n",
    "                import matplotlib.pyplot as plt\n",
    "                import cv2\n",
    "                w=10\n",
    "                h=10\n",
    "                fig=plt.figure(figsize=(8, 8))\n",
    "                columns = 4\n",
    "                rows = 5\n",
    "                for i in range(batch_size):\n",
    "                    fig.add_subplot(rows, columns, i+1)\n",
    "                    plt.imshow((cv2.cvtColor(generate_image_batch[i], cv2.COLOR_BGR2RGB)* 255).astype(np.uint8))\n",
    "                plt.savefig('epoch'+str(j)+'.jpg')\n",
    "                plt.show()\n",
    "\n",
    "            # for i in range(batch_size):\n",
    "            #     # imsave(\"gen{}\".format(i)+'-'+str(j) + '-'+ str(offset)+'.png', generate_image_batch[i])\n",
    "            #     if j == 0:\n",
    "            #         imsave('original{}'.format(i)+'-'+  str(offset)+'.png', small_X[offset+i])\n",
    "            #         imsave('cut piece{}'.format(i)+'-'+ str(offset)+'.png', X[offset+i])\n",
    "\n"
   ]
  },
  {
   "cell_type": "code",
   "execution_count": 0,
   "metadata": {
    "colab": {},
    "colab_type": "code",
    "id": "phkZYCKUR-3o"
   },
   "outputs": [],
   "source": [
    "- "
   ]
  }
 ],
 "metadata": {
  "accelerator": "GPU",
  "colab": {
   "collapsed_sections": [],
   "machine_shape": "hm",
   "name": "Copy of context_ecoder.ipynb",
   "provenance": []
  },
  "kernelspec": {
   "display_name": "Python 3",
   "language": "python",
   "name": "python3"
  },
  "language_info": {
   "codemirror_mode": {
    "name": "ipython",
    "version": 3
   },
   "file_extension": ".py",
   "mimetype": "text/x-python",
   "name": "python",
   "nbconvert_exporter": "python",
   "pygments_lexer": "ipython3",
   "version": "3.7.6"
  }
 },
 "nbformat": 4,
 "nbformat_minor": 1
}
